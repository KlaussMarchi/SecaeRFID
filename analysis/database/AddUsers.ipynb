{
 "cells": [
  {
   "cell_type": "code",
   "execution_count": 1,
   "metadata": {},
   "outputs": [],
   "source": [
    "import requests\n",
    "import pandas as pd\n",
    "import json\n",
    "from time import sleep"
   ]
  },
  {
   "cell_type": "code",
   "execution_count": 11,
   "metadata": {},
   "outputs": [],
   "source": [
    "url = r'https://xi-secae-default-rtdb.firebaseio.com/'\n",
    "\n",
    "def addDatabaseRow(tableName, newData, timeout=10):\n",
    "    newData = json.dumps(newData)\n",
    "    link = url + tableName + '.json'\n",
    "    \n",
    "    try:\n",
    "        requests.post(link, data=newData, timeout=timeout)\n",
    "    except:\n",
    "        return False\n",
    "    \n",
    "    return True"
   ]
  },
  {
   "cell_type": "code",
   "execution_count": 12,
   "metadata": {},
   "outputs": [
    {
     "data": {
      "text/html": [
       "<div>\n",
       "<style scoped>\n",
       "    .dataframe tbody tr th:only-of-type {\n",
       "        vertical-align: middle;\n",
       "    }\n",
       "\n",
       "    .dataframe tbody tr th {\n",
       "        vertical-align: top;\n",
       "    }\n",
       "\n",
       "    .dataframe thead th {\n",
       "        text-align: right;\n",
       "    }\n",
       "</style>\n",
       "<table border=\"1\" class=\"dataframe\">\n",
       "  <thead>\n",
       "    <tr style=\"text-align: right;\">\n",
       "      <th></th>\n",
       "      <th>Nome</th>\n",
       "      <th>Matricula</th>\n",
       "      <th>ID</th>\n",
       "    </tr>\n",
       "  </thead>\n",
       "  <tbody>\n",
       "    <tr>\n",
       "      <th>0</th>\n",
       "      <td>Nicolas Meirelles Grisostolo</td>\n",
       "      <td>201717050115</td>\n",
       "      <td>3E 60 C3 F7</td>\n",
       "    </tr>\n",
       "    <tr>\n",
       "      <th>1</th>\n",
       "      <td>rayssa menezes bandeira</td>\n",
       "      <td>202227050281</td>\n",
       "      <td>B1 E2 C0 03</td>\n",
       "    </tr>\n",
       "    <tr>\n",
       "      <th>2</th>\n",
       "      <td>leandro aragao</td>\n",
       "      <td>202227050273</td>\n",
       "      <td>0D A6 61 F2</td>\n",
       "    </tr>\n",
       "    <tr>\n",
       "      <th>3</th>\n",
       "      <td>Vinicius Rohen de Souza</td>\n",
       "      <td>202227050079</td>\n",
       "      <td>BE 1C 50 F7</td>\n",
       "    </tr>\n",
       "    <tr>\n",
       "      <th>4</th>\n",
       "      <td>guilherme da silva ventura gaspar</td>\n",
       "      <td>202227050370</td>\n",
       "      <td>5D CC 5D F2</td>\n",
       "    </tr>\n",
       "  </tbody>\n",
       "</table>\n",
       "</div>"
      ],
      "text/plain": [
       "                                Nome     Matricula           ID\n",
       "0       Nicolas Meirelles Grisostolo  201717050115  3E 60 C3 F7\n",
       "1            rayssa menezes bandeira  202227050281  B1 E2 C0 03\n",
       "2                     leandro aragao  202227050273  0D A6 61 F2\n",
       "3            Vinicius Rohen de Souza  202227050079  BE 1C 50 F7\n",
       "4  guilherme da silva ventura gaspar  202227050370  5D CC 5D F2"
      ]
     },
     "execution_count": 12,
     "metadata": {},
     "output_type": "execute_result"
    }
   ],
   "source": [
    "df = pd.read_excel('inscritos.xlsx')\n",
    "df.head()"
   ]
  },
  {
   "cell_type": "code",
   "execution_count": 17,
   "metadata": {},
   "outputs": [
    {
     "data": {
      "text/html": [
       "<div>\n",
       "<style scoped>\n",
       "    .dataframe tbody tr th:only-of-type {\n",
       "        vertical-align: middle;\n",
       "    }\n",
       "\n",
       "    .dataframe tbody tr th {\n",
       "        vertical-align: top;\n",
       "    }\n",
       "\n",
       "    .dataframe thead th {\n",
       "        text-align: right;\n",
       "    }\n",
       "</style>\n",
       "<table border=\"1\" class=\"dataframe\">\n",
       "  <thead>\n",
       "    <tr style=\"text-align: right;\">\n",
       "      <th></th>\n",
       "      <th>name</th>\n",
       "      <th>mat</th>\n",
       "      <th>id</th>\n",
       "    </tr>\n",
       "  </thead>\n",
       "  <tbody>\n",
       "    <tr>\n",
       "      <th>0</th>\n",
       "      <td>NICOLAS MEIRELLES GRISOSTOLO</td>\n",
       "      <td>201717050115</td>\n",
       "      <td>3E60C3F7</td>\n",
       "    </tr>\n",
       "    <tr>\n",
       "      <th>1</th>\n",
       "      <td>RAYSSA MENEZES BANDEIRA</td>\n",
       "      <td>202227050281</td>\n",
       "      <td>B1E2C003</td>\n",
       "    </tr>\n",
       "    <tr>\n",
       "      <th>2</th>\n",
       "      <td>LEANDRO ARAGAO</td>\n",
       "      <td>202227050273</td>\n",
       "      <td>0DA661F2</td>\n",
       "    </tr>\n",
       "    <tr>\n",
       "      <th>3</th>\n",
       "      <td>VINICIUS ROHEN DE SOUZA</td>\n",
       "      <td>202227050079</td>\n",
       "      <td>BE1C50F7</td>\n",
       "    </tr>\n",
       "    <tr>\n",
       "      <th>4</th>\n",
       "      <td>GUILHERME DA SILVA VENTURA GASPAR</td>\n",
       "      <td>202227050370</td>\n",
       "      <td>5DCC5DF2</td>\n",
       "    </tr>\n",
       "  </tbody>\n",
       "</table>\n",
       "</div>"
      ],
      "text/plain": [
       "                                name           mat        id\n",
       "0       NICOLAS MEIRELLES GRISOSTOLO  201717050115  3E60C3F7\n",
       "1            RAYSSA MENEZES BANDEIRA  202227050281  B1E2C003\n",
       "2                     LEANDRO ARAGAO  202227050273  0DA661F2\n",
       "3            VINICIUS ROHEN DE SOUZA  202227050079  BE1C50F7\n",
       "4  GUILHERME DA SILVA VENTURA GASPAR  202227050370  5DCC5DF2"
      ]
     },
     "execution_count": 17,
     "metadata": {},
     "output_type": "execute_result"
    }
   ],
   "source": [
    "df.columns = ['name', 'mat', 'id']\n",
    "\n",
    "df['name'] = df.name.apply(lambda name: str(name).upper().strip())\n",
    "df['mat']  = df.mat.apply(lambda mat: str(mat).strip())\n",
    "df['id']   = df.id.apply(lambda id: str(id).replace(' ', '').strip())\n",
    "df.head()"
   ]
  },
  {
   "cell_type": "code",
   "execution_count": null,
   "metadata": {},
   "outputs": [
    {
     "name": "stdout",
     "output_type": "stream",
     "text": [
      "{'name': 'NICOLAS MEIRELLES GRISOSTOLO', 'mat': '201717050115', 'id': '3E60C3F7'}\n",
      "adicionado:  {'name': 'NICOLAS MEIRELLES GRISOSTOLO', 'mat': '201717050115', 'id': '3E60C3F7'}\n",
      "{'name': 'RAYSSA MENEZES BANDEIRA', 'mat': '202227050281', 'id': 'B1E2C003'}\n",
      "adicionado:  {'name': 'RAYSSA MENEZES BANDEIRA', 'mat': '202227050281', 'id': 'B1E2C003'}\n",
      "{'name': 'LEANDRO ARAGAO', 'mat': '202227050273', 'id': '0DA661F2'}\n",
      "adicionado:  {'name': 'LEANDRO ARAGAO', 'mat': '202227050273', 'id': '0DA661F2'}\n",
      "{'name': 'VINICIUS ROHEN DE SOUZA', 'mat': '202227050079', 'id': 'BE1C50F7'}\n",
      "adicionado:  {'name': 'VINICIUS ROHEN DE SOUZA', 'mat': '202227050079', 'id': 'BE1C50F7'}\n",
      "{'name': 'GUILHERME DA SILVA VENTURA GASPAR', 'mat': '202227050370', 'id': '5DCC5DF2'}\n",
      "adicionado:  {'name': 'GUILHERME DA SILVA VENTURA GASPAR', 'mat': '202227050370', 'id': '5DCC5DF2'}\n",
      "{'name': 'MIGUEL DE ARAUJO PINTO COELHO', 'mat': '202227050087', 'id': 'BE77BCF7'}\n",
      "adicionado:  {'name': 'MIGUEL DE ARAUJO PINTO COELHO', 'mat': '202227050087', 'id': 'BE77BCF7'}\n",
      "{'name': 'OBADIAS PIERRE DE OLIVEIRA DOS SANTOS', 'mat': '202227050303', 'id': 'A17CC003'}\n",
      "adicionado:  {'name': 'OBADIAS PIERRE DE OLIVEIRA DOS SANTOS', 'mat': '202227050303', 'id': 'A17CC003'}\n",
      "{'name': 'VITÓRIA DOS SANTOS FERREIRA DE SOUZA', 'mat': '202319140341', 'id': '0D9068F2'}\n",
      "adicionado:  {'name': 'VITÓRIA DOS SANTOS FERREIRA DE SOUZA', 'mat': '202319140341', 'id': '0D9068F2'}\n",
      "{'name': 'LETÍCIA MELO VARGAS DA SILVA', 'mat': '202219140048', 'id': '2178A103'}\n",
      "adicionado:  {'name': 'LETÍCIA MELO VARGAS DA SILVA', 'mat': '202219140048', 'id': '2178A103'}\n",
      "{'name': 'SOPHIA PENA DE OLIVEIRA', 'mat': '202227170155', 'id': 'A10C9203'}\n",
      "adicionado:  {'name': 'SOPHIA PENA DE OLIVEIRA', 'mat': '202227170155', 'id': 'A10C9203'}\n",
      "{'name': 'ANA CARLA', 'mat': '202319050300', 'id': 'FD3264F2'}\n",
      "adicionado:  {'name': 'ANA CARLA', 'mat': '202319050300', 'id': 'FD3264F2'}\n",
      "{'name': 'ANDRÉ ANTÔNIO AGUIAR PESSANHA SANTOS', 'mat': '202119140321', 'id': 'AD6159F2'}\n",
      "adicionado:  {'name': 'ANDRÉ ANTÔNIO AGUIAR PESSANHA SANTOS', 'mat': '202119140321', 'id': 'AD6159F2'}\n",
      "{'name': 'JHONATAS DE PAULO RIBEIRO', 'mat': '202119140232', 'id': 'D17CB003'}\n"
     ]
    },
    {
     "ename": "KeyboardInterrupt",
     "evalue": "",
     "output_type": "error",
     "traceback": [
      "\u001b[1;31m---------------------------------------------------------------------------\u001b[0m",
      "\u001b[1;31mKeyboardInterrupt\u001b[0m                         Traceback (most recent call last)",
      "Cell \u001b[1;32mIn[18], line 9\u001b[0m\n\u001b[0;32m      6\u001b[0m     \u001b[38;5;28;01mcontinue\u001b[39;00m\n\u001b[0;32m      8\u001b[0m success \u001b[38;5;241m=\u001b[39m \u001b[38;5;28;01mTrue\u001b[39;00m \u001b[38;5;66;03m#addDatabaseRow('users', data)\u001b[39;00m\n\u001b[1;32m----> 9\u001b[0m \u001b[43msleep\u001b[49m\u001b[43m(\u001b[49m\u001b[38;5;241;43m0.5\u001b[39;49m\u001b[43m)\u001b[49m\n\u001b[0;32m     11\u001b[0m \u001b[38;5;28;01mif\u001b[39;00m \u001b[38;5;129;01mnot\u001b[39;00m success:\n\u001b[0;32m     12\u001b[0m     \u001b[38;5;28mprint\u001b[39m(\u001b[38;5;124m'\u001b[39m\u001b[38;5;124merro ao adicionar: \u001b[39m\u001b[38;5;124m'\u001b[39m, data)\n",
      "\u001b[1;31mKeyboardInterrupt\u001b[0m: "
     ]
    }
   ],
   "source": [
    "for i, row in df.iterrows():\n",
    "    data = row.to_dict()\n",
    "    \n",
    "    if not data['mat'].isdigit() or len(data['mat']) < 10:\n",
    "        continue\n",
    "\n",
    "    success = addDatabaseRow('users', data)\n",
    "    sleep(0.5)\n",
    "\n",
    "    if not success:\n",
    "        print('erro ao adicionar: ', data)\n",
    "    else:\n",
    "        print('adicionado: ', data)\n",
    "    \n",
    "print('acabou')"
   ]
  },
  {
   "cell_type": "code",
   "execution_count": null,
   "metadata": {},
   "outputs": [],
   "source": []
  }
 ],
 "metadata": {
  "kernelspec": {
   "display_name": "Python 3",
   "language": "python",
   "name": "python3"
  },
  "language_info": {
   "codemirror_mode": {
    "name": "ipython",
    "version": 3
   },
   "file_extension": ".py",
   "mimetype": "text/x-python",
   "name": "python",
   "nbconvert_exporter": "python",
   "pygments_lexer": "ipython3",
   "version": "3.12.3"
  }
 },
 "nbformat": 4,
 "nbformat_minor": 2
}
