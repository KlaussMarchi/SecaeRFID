{
 "cells": [
  {
   "cell_type": "code",
   "execution_count": 122,
   "metadata": {},
   "outputs": [],
   "source": [
    "import pandas as pd"
   ]
  },
  {
   "cell_type": "code",
   "execution_count": 123,
   "metadata": {},
   "outputs": [
    {
     "data": {
      "text/plain": [
       "['Nome\\tE-mail\\tStatus\\tAções\\n',\n",
       " 'Caíque Nóbrega\\tiquenobrega@gmail.com\\tAtiva\\t\\n',\n",
       " 'Davi do Amaral Pereira\\tffda.pereira@gmail.com\\tAtiva\\t\\n',\n",
       " 'Glauber Braga Ferreira\\tglauberbragaferreira@gmail.com\\tAtiva\\t\\n',\n",
       " 'Gustavo Porto de Souza\\tgportodesouza@gmail.com\\tAtiva\\t\\n',\n",
       " 'Isaías Cândido de Souza\\tisaiascandido63@gmail.com\\tAtiva\\t\\n',\n",
       " 'Natan Pessanha\\tnatanpessanha@gmail.com\\tAtiva']"
      ]
     },
     "execution_count": 123,
     "metadata": {},
     "output_type": "execute_result"
    }
   ],
   "source": [
    "with open('data.txt', 'r', encoding='utf-8') as file:\n",
    "    data = file.readlines()\n",
    "\n",
    "data"
   ]
  },
  {
   "cell_type": "code",
   "execution_count": 124,
   "metadata": {},
   "outputs": [
    {
     "data": {
      "text/html": [
       "<div>\n",
       "<style scoped>\n",
       "    .dataframe tbody tr th:only-of-type {\n",
       "        vertical-align: middle;\n",
       "    }\n",
       "\n",
       "    .dataframe tbody tr th {\n",
       "        vertical-align: top;\n",
       "    }\n",
       "\n",
       "    .dataframe thead th {\n",
       "        text-align: right;\n",
       "    }\n",
       "</style>\n",
       "<table border=\"1\" class=\"dataframe\">\n",
       "  <thead>\n",
       "    <tr style=\"text-align: right;\">\n",
       "      <th></th>\n",
       "      <th>name</th>\n",
       "      <th>email</th>\n",
       "      <th>status</th>\n",
       "    </tr>\n",
       "  </thead>\n",
       "  <tbody>\n",
       "    <tr>\n",
       "      <th>0</th>\n",
       "      <td>Caíque Nóbrega</td>\n",
       "      <td>iquenobrega@gmail.com</td>\n",
       "      <td>Ativa</td>\n",
       "    </tr>\n",
       "    <tr>\n",
       "      <th>1</th>\n",
       "      <td>Davi do Amaral Pereira</td>\n",
       "      <td>ffda.pereira@gmail.com</td>\n",
       "      <td>Ativa</td>\n",
       "    </tr>\n",
       "    <tr>\n",
       "      <th>2</th>\n",
       "      <td>Glauber Braga Ferreira</td>\n",
       "      <td>glauberbragaferreira@gmail.com</td>\n",
       "      <td>Ativa</td>\n",
       "    </tr>\n",
       "    <tr>\n",
       "      <th>3</th>\n",
       "      <td>Gustavo Porto de Souza</td>\n",
       "      <td>gportodesouza@gmail.com</td>\n",
       "      <td>Ativa</td>\n",
       "    </tr>\n",
       "    <tr>\n",
       "      <th>4</th>\n",
       "      <td>Isaías Cândido de Souza</td>\n",
       "      <td>isaiascandido63@gmail.com</td>\n",
       "      <td>Ativa</td>\n",
       "    </tr>\n",
       "    <tr>\n",
       "      <th>5</th>\n",
       "      <td>Natan Pessanha</td>\n",
       "      <td>natanpessanha@gmail.com</td>\n",
       "      <td>Ativa</td>\n",
       "    </tr>\n",
       "  </tbody>\n",
       "</table>\n",
       "</div>"
      ],
      "text/plain": [
       "                      name                           email status\n",
       "0           Caíque Nóbrega           iquenobrega@gmail.com  Ativa\n",
       "1   Davi do Amaral Pereira          ffda.pereira@gmail.com  Ativa\n",
       "2   Glauber Braga Ferreira  glauberbragaferreira@gmail.com  Ativa\n",
       "3   Gustavo Porto de Souza         gportodesouza@gmail.com  Ativa\n",
       "4  Isaías Cândido de Souza       isaiascandido63@gmail.com  Ativa\n",
       "5           Natan Pessanha         natanpessanha@gmail.com  Ativa"
      ]
     },
     "execution_count": 124,
     "metadata": {},
     "output_type": "execute_result"
    }
   ],
   "source": [
    "df = []\n",
    "\n",
    "for line in data[1:]:\n",
    "    row = line.split('\\t')\n",
    "    target = []\n",
    "\n",
    "    for i, val in enumerate(row):\n",
    "        val = val.strip()\n",
    "\n",
    "        if len(val) < 5:\n",
    "            continue\n",
    "\n",
    "        target.append(val)\n",
    "    \n",
    "    if len(target) == 3:\n",
    "        df.append(target)\n",
    "\n",
    "df = pd.DataFrame(df, columns=['name', 'email', 'status'])\n",
    "df"
   ]
  },
  {
   "cell_type": "code",
   "execution_count": 126,
   "metadata": {},
   "outputs": [
    {
     "name": "stdout",
     "output_type": "stream",
     "text": [
      "iquenobrega@gmail.com\n",
      "ffda.pereira@gmail.com\n",
      "glauberbragaferreira@gmail.com\n",
      "gportodesouza@gmail.com\n",
      "isaiascandido63@gmail.com\n",
      "natanpessanha@gmail.com\n"
     ]
    }
   ],
   "source": [
    "for i, row in df.iterrows():\n",
    "    email = row.email\n",
    "    print(email)"
   ]
  }
 ],
 "metadata": {
  "kernelspec": {
   "display_name": "Python 3",
   "language": "python",
   "name": "python3"
  },
  "language_info": {
   "codemirror_mode": {
    "name": "ipython",
    "version": 3
   },
   "file_extension": ".py",
   "mimetype": "text/x-python",
   "name": "python",
   "nbconvert_exporter": "python",
   "pygments_lexer": "ipython3",
   "version": "3.12.3"
  }
 },
 "nbformat": 4,
 "nbformat_minor": 2
}
