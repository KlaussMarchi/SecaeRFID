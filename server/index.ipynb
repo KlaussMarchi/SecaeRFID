{
 "cells": [
  {
   "cell_type": "code",
   "execution_count": 1,
   "metadata": {},
   "outputs": [],
   "source": [
    "import requests\n",
    "import json\n",
    "import uuid"
   ]
  },
  {
   "cell_type": "code",
   "execution_count": 2,
   "metadata": {},
   "outputs": [],
   "source": [
    "url = r'https://xi-secae-default-rtdb.firebaseio.com/'"
   ]
  },
  {
   "cell_type": "code",
   "execution_count": 3,
   "metadata": {},
   "outputs": [
    {
     "data": {
      "text/plain": [
       "'c54039b4-4b57-4283-9d9e-bf033cc2b503'"
      ]
     },
     "execution_count": 3,
     "metadata": {},
     "output_type": "execute_result"
    }
   ],
   "source": [
    "def genUUID():\n",
    "    return uuid.uuid4().__str__()\n",
    "\n",
    "genUUID()"
   ]
  },
  {
   "cell_type": "code",
   "execution_count": 4,
   "metadata": {},
   "outputs": [
    {
     "data": {
      "text/plain": [
       "[{'id': 'bd22fb3d-cf8b-4f18-9004-4ac844d5a3d8',\n",
       "  'mat': 123456,\n",
       "  'name': 'Pedro'},\n",
       " {'id': 'b8df8490-6047-45a4-9689-b88c90be9193',\n",
       "  'mat': 202017050285,\n",
       "  'name': 'TUPINAMBÁ'}]"
      ]
     },
     "execution_count": 4,
     "metadata": {},
     "output_type": "execute_result"
    }
   ],
   "source": [
    "def getDatabaseRows(tableName, timeout=10):\n",
    "    link = url + tableName + '.json'\n",
    "\n",
    "    try:\n",
    "        response = requests.get(link, timeout=timeout)\n",
    "        return list(response.json().values())\n",
    "    except:\n",
    "        return None\n",
    "\n",
    "getDatabaseRows('users')"
   ]
  },
  {
   "cell_type": "code",
   "execution_count": 5,
   "metadata": {},
   "outputs": [
    {
     "data": {
      "text/plain": [
       "True"
      ]
     },
     "execution_count": 5,
     "metadata": {},
     "output_type": "execute_result"
    }
   ],
   "source": [
    "def addDatabaseRow(tableName, newData, timeout=10):\n",
    "    newData = json.dumps(newData)\n",
    "    link = url + tableName + '.json'\n",
    "    \n",
    "    try:\n",
    "        requests.post(link, data=newData, timeout=timeout)\n",
    "    except:\n",
    "        return False\n",
    "    \n",
    "    return True\n",
    "\n",
    "\n",
    "newData = {\n",
    "    'id': genUUID(),\n",
    "    'mat': 202017050285,\n",
    "    'name': 'Kakau',\n",
    "}\n",
    "\n",
    "addDatabaseRow('users', newData)"
   ]
  },
  {
   "cell_type": "code",
   "execution_count": 6,
   "metadata": {},
   "outputs": [
    {
     "data": {
      "text/plain": [
       "{'id': '-O8rHvKgDj0iaEMDjhoh',\n",
       " 'data': {'id': '399badbf-6391-4fdd-b5df-d80fbf060990',\n",
       "  'mat': 202017050285,\n",
       "  'name': 'Kakau'}}"
      ]
     },
     "execution_count": 6,
     "metadata": {},
     "output_type": "execute_result"
    }
   ],
   "source": [
    "def findDatabaseRow(tableName, key, value, timeout=10):\n",
    "    link = url + tableName + '.json'\n",
    "\n",
    "    try:\n",
    "        response = requests.get(link, timeout=timeout).json()\n",
    "    except:\n",
    "        return None\n",
    "\n",
    "    for id, data in response.items():\n",
    "        if data.get(key) is None:\n",
    "            continue\n",
    "\n",
    "        if data[key] == value:\n",
    "            return {'id': id, 'data': data}\n",
    "        \n",
    "    return None\n",
    "\n",
    "\n",
    "target = findDatabaseRow('users', 'name', 'Kakau')\n",
    "target"
   ]
  },
  {
   "cell_type": "code",
   "execution_count": 7,
   "metadata": {},
   "outputs": [
    {
     "name": "stdout",
     "output_type": "stream",
     "text": [
      "{'id': '399badbf-6391-4fdd-b5df-d80fbf060990', 'mat': 202017050285, 'name': 'TUPINAMBÁ'}\n"
     ]
    },
    {
     "data": {
      "text/plain": [
       "True"
      ]
     },
     "execution_count": 7,
     "metadata": {},
     "output_type": "execute_result"
    }
   ],
   "source": [
    "def editDatabaseRow(tableName, id, newData, timeout=10):\n",
    "    newData = json.dumps(newData)\n",
    "    link = url + tableName + '/' + id + '.json'\n",
    "    \n",
    "    try:\n",
    "        requests.put(link, data=newData, timeout=timeout)\n",
    "    except:\n",
    "        return False\n",
    "    \n",
    "    return True\n",
    "\n",
    "\n",
    "newData = target['data']\n",
    "newData['name'] = 'TUPINAMBÁ'\n",
    "\n",
    "print(newData)\n",
    "editDatabaseRow('users', target['id'], newData)"
   ]
  },
  {
   "cell_type": "code",
   "execution_count": 8,
   "metadata": {},
   "outputs": [
    {
     "data": {
      "text/plain": [
       "True"
      ]
     },
     "execution_count": 8,
     "metadata": {},
     "output_type": "execute_result"
    }
   ],
   "source": [
    "def deleteDatabaseRow(tableName, id, timeout=10):\n",
    "    link = url + tableName + '/' + id + '.json'\n",
    "    requests.delete(link, timeout=timeout)\n",
    "    return True\n",
    "\n",
    "\n",
    "deleteDatabaseRow('users', target['id'])"
   ]
  }
 ],
 "metadata": {
  "kernelspec": {
   "display_name": "Python 3",
   "language": "python",
   "name": "python3"
  },
  "language_info": {
   "codemirror_mode": {
    "name": "ipython",
    "version": 3
   },
   "file_extension": ".py",
   "mimetype": "text/x-python",
   "name": "python",
   "nbconvert_exporter": "python",
   "pygments_lexer": "ipython3",
   "version": "3.12.3"
  }
 },
 "nbformat": 4,
 "nbformat_minor": 2
}
